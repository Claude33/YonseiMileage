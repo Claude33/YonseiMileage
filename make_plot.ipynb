{
 "cells": [
  {
   "cell_type": "code",
   "execution_count": 71,
   "metadata": {},
   "outputs": [],
   "source": [
    "import pandas as pd\n",
    "import seaborn as sns\n",
    "import matplotlib.pyplot as plt\n",
    "import matplotlib\n",
    "from matplotlib import font_manager, rc"
   ]
  },
  {
   "cell_type": "code",
   "execution_count": 84,
   "metadata": {},
   "outputs": [
    {
     "name": "stdout",
     "output_type": "stream",
     "text": [
      "['malgun']\n"
     ]
    }
   ],
   "source": [
    "plt.rc('font', family='malgun') # For Windows\n",
    "print(plt.rcParams['font.family'])\n",
    "%matplotlib inline"
   ]
  },
  {
   "cell_type": "code",
   "execution_count": 85,
   "metadata": {},
   "outputs": [],
   "source": [
    "font_manager.get_fontconfig_fonts()\n",
    "\n",
    "font_location = 'C:/Windows/Fonts/malgun.ttf' # For Windows\n",
    "font_name = font_manager.FontProperties(fname=font_location).get_name()\n",
    "matplotlib.rc('font', family=font_name)\n",
    "\n",
    "%matplotlib inline"
   ]
  },
  {
   "cell_type": "code",
   "execution_count": 86,
   "metadata": {},
   "outputs": [],
   "source": [
    "font_name = font_manager.FontProperties(fname=\"c:/Windows/Fonts/malgun.ttf\").get_name()\n",
    "rc('font', family=font_name)\n",
    "matplotlib.rcParams['axes.unicode_minus'] = False"
   ]
  },
  {
   "cell_type": "code",
   "execution_count": 6,
   "metadata": {},
   "outputs": [
    {
     "name": "stderr",
     "output_type": "stream",
     "text": [
      "C:\\Users\\naval\\Anaconda3\\lib\\site-packages\\IPython\\core\\interactiveshell.py:3020: DtypeWarning: Columns (33) have mixed types. Specify dtype option on import or set low_memory=False.\n",
      "  interactivity=interactivity, compiler=compiler, result=result)\n"
     ]
    }
   ],
   "source": [
    "raw = pd.read_csv('data.csv',encoding='ms949')"
   ]
  },
  {
   "cell_type": "code",
   "execution_count": 14,
   "metadata": {},
   "outputs": [
    {
     "name": "stdout",
     "output_type": "stream",
     "text": [
      "학정번호: YCA1008-05-00\n"
     ]
    }
   ],
   "source": [
    "cls_num = input('학정번호: ')"
   ]
  },
  {
   "cell_type": "code",
   "execution_count": 33,
   "metadata": {},
   "outputs": [
    {
     "data": {
      "text/plain": [
       "Index(['연도', '학기', '구분1', '구분2', '구분3', '학정번호-분반-실습', '과목명', '학점', '담당교수',\n",
       "       '강의시간', '강의실', '정원', '참여인원', '전공자 정원 (2전공포함)', '학년별정원 1학년', '학년별정원 2학년',\n",
       "       '학년별정원 3학년', '학년별정원 4학년', '교환학생 가능여부', 'Max Mileage', '마일리지 최소값',\n",
       "       '마일리지 최대값', '마일리지 평균값', '순위', '마일리지', '전공자/복수전공자(전공자정원포함여부)', '신청과목수',\n",
       "       '졸업신청', '초수강여부', '총이수학점/졸업이수학점', '직전학기이수학점/학기당수강학점', '학년', '수강여부',\n",
       "       '비고'],\n",
       "      dtype='object')"
      ]
     },
     "execution_count": 33,
     "metadata": {},
     "output_type": "execute_result"
    }
   ],
   "source": [
    "target.columns"
   ]
  },
  {
   "cell_type": "code",
   "execution_count": 16,
   "metadata": {},
   "outputs": [],
   "source": [
    "target = raw[raw['학정번호-분반-실습'] == cls_num]"
   ]
  },
  {
   "cell_type": "code",
   "execution_count": 87,
   "metadata": {},
   "outputs": [
    {
     "data": {
      "text/plain": [
       "<Figure size 432x288 with 0 Axes>"
      ]
     },
     "metadata": {},
     "output_type": "display_data"
    }
   ],
   "source": [
    "#For each year, semester pair -> (학년 - 마일리지 hue = 성공여부)\n",
    "sub_targets = target.groupby(['연도','학기']).size().reset_index().rename(columns={0:'count'})\n",
    "del sub_targets['count']\n",
    "sub_targets = sub_targets.values.tolist()\n",
    "\n",
    "sns.set_style('darkgrid')\n",
    "for yearsem in sub_targets:\n",
    "    temp = target[(target['연도'] == yearsem[0]) & (target['학기'] == yearsem[1])]\n",
    "    \n",
    "    ax = sns.stripplot(x='학년',y='마일리지',hue='수강여부',data=temp)\n",
    "    ax.set_title('{}-{}'.format(yearsem[0],yearsem[1]))\n",
    "    ax.get_figure().savefig('{}_{}_학년_연도_scatter.png'.format(yearsem[0],yearsem[1]),dpi=1000)\n",
    "    ax.get_figure().clf()\n",
    "    "
   ]
  }
 ],
 "metadata": {
  "kernelspec": {
   "display_name": "Python 3",
   "language": "python",
   "name": "python3"
  },
  "language_info": {
   "codemirror_mode": {
    "name": "ipython",
    "version": 3
   },
   "file_extension": ".py",
   "mimetype": "text/x-python",
   "name": "python",
   "nbconvert_exporter": "python",
   "pygments_lexer": "ipython3",
   "version": "3.7.1"
  }
 },
 "nbformat": 4,
 "nbformat_minor": 2
}
